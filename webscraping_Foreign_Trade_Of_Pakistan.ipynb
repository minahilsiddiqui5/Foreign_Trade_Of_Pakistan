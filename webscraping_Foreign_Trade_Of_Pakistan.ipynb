{
 "cells": [
  {
   "cell_type": "code",
   "execution_count": 1,
   "id": "4c429879",
   "metadata": {},
   "outputs": [],
   "source": [
    "#importing the essential libraries\n",
    "\n",
    "from bs4 import BeautifulSoup\n",
    "import requests\n",
    "\n"
   ]
  },
  {
   "cell_type": "code",
   "execution_count": 45,
   "id": "fc96283f",
   "metadata": {},
   "outputs": [
    {
     "ename": "IndentationError",
     "evalue": "expected an indented block (2460598032.py, line 18)",
     "output_type": "error",
     "traceback": [
      "\u001b[1;36m  Input \u001b[1;32mIn [45]\u001b[1;36m\u001b[0m\n\u001b[1;33m    \u001b[0m\n\u001b[1;37m    ^\u001b[0m\n\u001b[1;31mIndentationError\u001b[0m\u001b[1;31m:\u001b[0m expected an indented block\n"
     ]
    }
   ],
   "source": [
    "url = 'https://en.wikipedia.org/wiki/Foreign_trade_of_Pakistan'\n",
    "\n",
    "#get the request using HTTP\n",
    "response = requests.get(url)\n",
    "\n",
    "#check the status code\n",
    "if response.status_code == 200:\n",
    "    \n",
    "    # Use the 'text' attribute to get the HTML content\n",
    "    html_content = response.text\n",
    "    \n",
    "    #parse the html content using BeautifulSoup\n",
    "    soup= BeautifulSoup(html_content,'html.parser')\n",
    "    \n",
    "    #print the prettified html contn\n",
    "    print(soup.prettify())\n",
    "    \n"
   ]
  },
  {
   "cell_type": "code",
   "execution_count": 43,
   "id": "79014999",
   "metadata": {},
   "outputs": [
    {
     "name": "stdout",
     "output_type": "stream",
     "text": [
      "<title>Population growth - Wikipedia</title>\n"
     ]
    }
   ],
   "source": [
    "print(soup.title)\n"
   ]
  },
  {
   "cell_type": "code",
   "execution_count": 44,
   "id": "eb75ac9f",
   "metadata": {},
   "outputs": [
    {
     "data": {
      "text/plain": [
       "'Population growth - Wikipedia'"
      ]
     },
     "execution_count": 44,
     "metadata": {},
     "output_type": "execute_result"
    }
   ],
   "source": [
    "soup.title.text"
   ]
  },
  {
   "cell_type": "code",
   "execution_count": 17,
   "id": "ce79cb61",
   "metadata": {},
   "outputs": [
    {
     "name": "stdout",
     "output_type": "stream",
     "text": [
      "Country\n",
      "Percentage of imports\n",
      "Percentage of exports\n",
      "Percentage of total trade\n",
      "\n",
      " China\n",
      "31\n",
      "11\n",
      "16.9\n",
      "\n",
      " European Union\n",
      "10.4\n",
      "18.2\n",
      "13.0\n",
      "\n",
      " United Arab Emirates\n",
      "12.1\n",
      "8.5\n",
      "10.9\n",
      "\n",
      " Saudi Arabia\n",
      "12.2\n",
      "8.5\n",
      "9.0\n",
      "\n",
      " United States\n",
      "3.7\n",
      "13.6\n",
      "6.7\n",
      "\n",
      " Kuwait\n",
      "6.3\n",
      "0.07\n",
      "4.4\n",
      "\n",
      " India[1]\n",
      "4.07\n",
      "1.67\n",
      "3\n",
      "\n",
      " Malaysia\n",
      "9\n",
      "0.9\n",
      "2.9\n",
      "\n",
      " Japan\n",
      "3.6\n",
      "1.6\n",
      "2.9\n",
      "\n",
      " Iran\n",
      "3.4\n",
      "1.8\n",
      "2.9\n",
      "\n",
      " Afghanistan\n",
      "0.3\n",
      "7.6\n",
      "2.8\n",
      "\n",
      " Singapore\n",
      "4.1\n",
      "0.3\n",
      "2.8\n",
      "\n"
     ]
    }
   ],
   "source": [
    "table = soup.find(\"table\", attrs={\"class\": \"wikitable\"})\n",
    "\n",
    "if table:\n",
    "    # Table found, proceed with extraction\n",
    "    for row in table.find_all('tr'):\n",
    "        columns = row.find_all(['th', 'td'])\n",
    "        for col in columns:\n",
    "            print(col.get_text())\n",
    "else:\n",
    "    print(\"Table not found on the page.\")\n"
   ]
  },
  {
   "cell_type": "code",
   "execution_count": 27,
   "id": "0cd3d6f7",
   "metadata": {},
   "outputs": [
    {
     "name": "stdout",
     "output_type": "stream",
     "text": [
      "Country\tPercentage of imports\tPercentage of exports\tPercentage of total trade\n",
      "China\t31\t11\t16.9\n",
      "European Union\t10.4\t18.2\t13.0\n",
      "United Arab Emirates\t12.1\t8.5\t10.9\n",
      "Saudi Arabia\t12.2\t8.5\t9.0\n",
      "United States\t3.7\t13.6\t6.7\n",
      "Kuwait\t6.3\t0.07\t4.4\n",
      "India[1]\t4.07\t1.67\t3\n",
      "Malaysia\t9\t0.9\t2.9\n",
      "Japan\t3.6\t1.6\t2.9\n",
      "Iran\t3.4\t1.8\t2.9\n",
      "Afghanistan\t0.3\t7.6\t2.8\n",
      "Singapore\t4.1\t0.3\t2.8\n"
     ]
    }
   ],
   "source": [
    "import requests\n",
    "from bs4 import BeautifulSoup\n",
    "import csv\n",
    "\n",
    "# Website URL with the table\n",
    "url = 'https://en.wikipedia.org/wiki/Foreign_trade_of_Pakistan'\n",
    "\n",
    "# Send an HTTP GET request to the URL\n",
    "response = requests.get(url)\n",
    "\n",
    "# Check if the request was successful\n",
    "if response.status_code == 200:\n",
    "    # Use the 'text' attribute to get the HTML content\n",
    "    html_content = response.text\n",
    "\n",
    "    # Parse the HTML content using BeautifulSoup\n",
    "    soup = BeautifulSoup(html_content, 'html.parser')\n",
    "\n",
    "    # Find the table by its class or attributes\n",
    "    table = soup.find('table', {'class': 'wikitable'})  # Replace with the actual class or attributes\n",
    "\n",
    "    if table:\n",
    "        # Initialize a list to store the table data\n",
    "        table_data = []\n",
    "\n",
    "        # Extract table data and append it to the list\n",
    "        for row in table.find_all('tr'):\n",
    "            columns = row.find_all(['th', 'td'])\n",
    "            row_data = [col.get_text(strip=True) for col in columns]\n",
    "            table_data.append(row_data)\n",
    "\n",
    "        # Print the table data\n",
    "        for row in table_data:\n",
    "            print('\\t'.join(row))  # Print tab-separated rows\n",
    "\n",
    "        # Optionally, save the data to a CSV file\n",
    "        with open('table_data.csv', 'w', newline='', encoding='utf-8') as csvfile:\n",
    "            csvwriter = csv.writer(csvfile)\n",
    "            csvwriter.writerows(table_data)\n",
    "    else:\n",
    "        print(\"Table not found on the page.\")\n",
    "else:\n",
    "    print(f\"Failed to retrieve the page. Status code: {response.status_code}\")\n"
   ]
  },
  {
   "cell_type": "code",
   "execution_count": 29,
   "id": "5724a6bc",
   "metadata": {},
   "outputs": [
    {
     "name": "stdout",
     "output_type": "stream",
     "text": [
      "Table data saved to table_data.csv\n"
     ]
    }
   ],
   "source": [
    "import requests\n",
    "from bs4 import BeautifulSoup\n",
    "import csv\n",
    "\n",
    "# Website URL with the table\n",
    "url = 'https://en.wikipedia.org/wiki/Foreign_trade_of_Pakistan'\n",
    "\n",
    "# Send an HTTP GET request to the URL\n",
    "response = requests.get(url)\n",
    "\n",
    "# Check if the request was successful\n",
    "if response.status_code == 200:\n",
    "    # Use the 'text' attribute to get the HTML content\n",
    "    html_content = response.text\n",
    "\n",
    "    # Parse the HTML content using BeautifulSoup\n",
    "    soup = BeautifulSoup(html_content, 'html.parser')\n",
    "\n",
    "    # Find the table by its class or attributes\n",
    "    table = soup.find('table', {'class': 'wikitable'})  # Replace with the actual class or attributes\n",
    "\n",
    "    if table:\n",
    "        # Initialize a list to store the table data\n",
    "        table_data = []\n",
    "\n",
    "        # Extract table data and append it to the list\n",
    "        for row in table.find_all('tr'):\n",
    "            columns = row.find_all(['th', 'td'])\n",
    "            row_data = [col.get_text(strip=True) for col in columns]\n",
    "            table_data.append(row_data)\n",
    "\n",
    "        # Specify the CSV file name\n",
    "        csv_file_name = 'table_data.csv'\n",
    "\n",
    "        # Save the data to a CSV file\n",
    "        with open(csv_file_name, 'w', newline='', encoding='utf-8') as csvfile:\n",
    "            csvwriter = csv.writer(csvfile)\n",
    "            csvwriter.writerows(table_data)\n",
    "\n",
    "        print(f\"Table data saved to {csv_file_name}\")\n",
    "    else:\n",
    "        print(\"Table not found on the page.\")\n",
    "else:\n",
    "    print(f\"Failed to retrieve the page. Status code: {response.status_code}\")\n"
   ]
  },
  {
   "cell_type": "code",
   "execution_count": 32,
   "id": "c35c97ac",
   "metadata": {},
   "outputs": [
    {
     "data": {
      "text/html": [
       "<div>\n",
       "<style scoped>\n",
       "    .dataframe tbody tr th:only-of-type {\n",
       "        vertical-align: middle;\n",
       "    }\n",
       "\n",
       "    .dataframe tbody tr th {\n",
       "        vertical-align: top;\n",
       "    }\n",
       "\n",
       "    .dataframe thead th {\n",
       "        text-align: right;\n",
       "    }\n",
       "</style>\n",
       "<table border=\"1\" class=\"dataframe\">\n",
       "  <thead>\n",
       "    <tr style=\"text-align: right;\">\n",
       "      <th></th>\n",
       "      <th>Country</th>\n",
       "      <th>Percentage of imports</th>\n",
       "      <th>Percentage of exports</th>\n",
       "      <th>Percentage of total trade</th>\n",
       "    </tr>\n",
       "  </thead>\n",
       "  <tbody>\n",
       "    <tr>\n",
       "      <th>0</th>\n",
       "      <td>China</td>\n",
       "      <td>31.0</td>\n",
       "      <td>11.0</td>\n",
       "      <td>16.9</td>\n",
       "    </tr>\n",
       "    <tr>\n",
       "      <th>1</th>\n",
       "      <td>European Union</td>\n",
       "      <td>10.4</td>\n",
       "      <td>18.2</td>\n",
       "      <td>13.0</td>\n",
       "    </tr>\n",
       "    <tr>\n",
       "      <th>2</th>\n",
       "      <td>United Arab Emirates</td>\n",
       "      <td>12.1</td>\n",
       "      <td>8.5</td>\n",
       "      <td>10.9</td>\n",
       "    </tr>\n",
       "    <tr>\n",
       "      <th>3</th>\n",
       "      <td>Saudi Arabia</td>\n",
       "      <td>12.2</td>\n",
       "      <td>8.5</td>\n",
       "      <td>9.0</td>\n",
       "    </tr>\n",
       "    <tr>\n",
       "      <th>4</th>\n",
       "      <td>United States</td>\n",
       "      <td>3.7</td>\n",
       "      <td>13.6</td>\n",
       "      <td>6.7</td>\n",
       "    </tr>\n",
       "  </tbody>\n",
       "</table>\n",
       "</div>"
      ],
      "text/plain": [
       "                Country  Percentage of imports  Percentage of exports  \\\n",
       "0                 China                   31.0                   11.0   \n",
       "1        European Union                   10.4                   18.2   \n",
       "2  United Arab Emirates                   12.1                    8.5   \n",
       "3          Saudi Arabia                   12.2                    8.5   \n",
       "4         United States                    3.7                   13.6   \n",
       "\n",
       "   Percentage of total trade  \n",
       "0                       16.9  \n",
       "1                       13.0  \n",
       "2                       10.9  \n",
       "3                        9.0  \n",
       "4                        6.7  "
      ]
     },
     "execution_count": 32,
     "metadata": {},
     "output_type": "execute_result"
    }
   ],
   "source": [
    "import pandas as pd\n",
    "df = pd.read_csv('table_data.csv')\n",
    "df.head()"
   ]
  },
  {
   "cell_type": "code",
   "execution_count": 35,
   "id": "0e07654d",
   "metadata": {},
   "outputs": [
    {
     "data": {
      "text/plain": [
       "0"
      ]
     },
     "execution_count": 35,
     "metadata": {},
     "output_type": "execute_result"
    }
   ],
   "source": [
    "df.isna().sum().sum()"
   ]
  },
  {
   "cell_type": "code",
   "execution_count": 41,
   "id": "c0308701",
   "metadata": {},
   "outputs": [
    {
     "name": "stdout",
     "output_type": "stream",
     "text": [
      "<class 'pandas.core.frame.DataFrame'>\n",
      "RangeIndex: 12 entries, 0 to 11\n",
      "Data columns (total 4 columns):\n",
      " #   Column                     Non-Null Count  Dtype  \n",
      "---  ------                     --------------  -----  \n",
      " 0   Country                    12 non-null     object \n",
      " 1   Percentage of imports      12 non-null     float64\n",
      " 2   Percentage of exports      12 non-null     float64\n",
      " 3   Percentage of total trade  12 non-null     float64\n",
      "dtypes: float64(3), object(1)\n",
      "memory usage: 512.0+ bytes\n"
     ]
    }
   ],
   "source": [
    "df.info()"
   ]
  },
  {
   "cell_type": "code",
   "execution_count": null,
   "id": "2da2ef4a",
   "metadata": {},
   "outputs": [],
   "source": []
  }
 ],
 "metadata": {
  "kernelspec": {
   "display_name": "Python 3 (ipykernel)",
   "language": "python",
   "name": "python3"
  },
  "language_info": {
   "codemirror_mode": {
    "name": "ipython",
    "version": 3
   },
   "file_extension": ".py",
   "mimetype": "text/x-python",
   "name": "python",
   "nbconvert_exporter": "python",
   "pygments_lexer": "ipython3",
   "version": "3.9.12"
  }
 },
 "nbformat": 4,
 "nbformat_minor": 5
}
